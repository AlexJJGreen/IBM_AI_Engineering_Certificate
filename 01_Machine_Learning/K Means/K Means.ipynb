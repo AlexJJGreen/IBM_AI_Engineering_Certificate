{
 "cells": [
  {
   "cell_type": "markdown",
   "id": "8c1588f5",
   "metadata": {},
   "source": [
    "# K Means Clustering"
   ]
  },
  {
   "cell_type": "markdown",
   "id": "4d9118e4",
   "metadata": {},
   "source": [
    "K Means is used for clustering. Clustering is a useful technique when insights must be quickly discovered from, unlabeled data."
   ]
  },
  {
   "cell_type": "markdown",
   "id": "c6cda454",
   "metadata": {},
   "source": [
    "K means is often used for:\n",
    "\n",
    "* Customer segmentation\n",
    "* Understanding web traffic patterns\n",
    "* Pattern recognition\n",
    "* Machine learning\n",
    "* Data compression"
   ]
  },
  {
   "cell_type": "code",
   "execution_count": 2,
   "id": "5704f6ad",
   "metadata": {},
   "outputs": [],
   "source": [
    "# import libs\n",
    "import random\n",
    "import numpy as np\n",
    "import matplotlib.pyplot as plt\n",
    "from sklearn.cluster import KMeans\n",
    "from sklearn.datasets import make_blobs\n",
    "%matplotlib inline"
   ]
  },
  {
   "cell_type": "markdown",
   "id": "7d94e37a",
   "metadata": {},
   "source": [
    "##"
   ]
  }
 ],
 "metadata": {
  "kernelspec": {
   "display_name": "Python 3 (ipykernel)",
   "language": "python",
   "name": "python3"
  },
  "language_info": {
   "codemirror_mode": {
    "name": "ipython",
    "version": 3
   },
   "file_extension": ".py",
   "mimetype": "text/x-python",
   "name": "python",
   "nbconvert_exporter": "python",
   "pygments_lexer": "ipython3",
   "version": "3.9.12"
  }
 },
 "nbformat": 4,
 "nbformat_minor": 5
}
