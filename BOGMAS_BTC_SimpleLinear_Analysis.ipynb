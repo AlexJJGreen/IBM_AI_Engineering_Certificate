{
 "cells": [
  {
   "cell_type": "code",
   "execution_count": 1,
   "id": "10aca9f5",
   "metadata": {},
   "outputs": [],
   "source": [
    "import matplotlib.pyplot as plt\n",
    "import pandas as pd\n",
    "import pylab as pl\n",
    "import numpy as np\n",
    "%matplotlib inline"
   ]
  },
  {
   "cell_type": "code",
   "execution_count": 2,
   "id": "bc5295e5",
   "metadata": {},
   "outputs": [],
   "source": [
    "df = pd.read_csv(\"Datasets/BTC_BOGMAS_Nov14-Jun23.csv\")\n"
   ]
  },
  {
   "cell_type": "code",
   "execution_count": 3,
   "id": "845b6e63",
   "metadata": {},
   "outputs": [
    {
     "data": {
      "text/html": [
       "<div>\n",
       "<style scoped>\n",
       "    .dataframe tbody tr th:only-of-type {\n",
       "        vertical-align: middle;\n",
       "    }\n",
       "\n",
       "    .dataframe tbody tr th {\n",
       "        vertical-align: top;\n",
       "    }\n",
       "\n",
       "    .dataframe thead th {\n",
       "        text-align: right;\n",
       "    }\n",
       "</style>\n",
       "<table border=\"1\" class=\"dataframe\">\n",
       "  <thead>\n",
       "    <tr style=\"text-align: right;\">\n",
       "      <th></th>\n",
       "      <th>Date</th>\n",
       "      <th>BOGMAS</th>\n",
       "      <th>BTC-USD</th>\n",
       "      <th>BOGMAS_Chg%</th>\n",
       "      <th>BTC-USD_Chg%</th>\n",
       "    </tr>\n",
       "  </thead>\n",
       "  <tbody>\n",
       "    <tr>\n",
       "      <th>0</th>\n",
       "      <td>01/11/2014</td>\n",
       "      <td>3830400</td>\n",
       "      <td>378.046997</td>\n",
       "      <td>-0.042759</td>\n",
       "      <td>0.117421</td>\n",
       "    </tr>\n",
       "    <tr>\n",
       "      <th>1</th>\n",
       "      <td>01/12/2014</td>\n",
       "      <td>3934500</td>\n",
       "      <td>320.192993</td>\n",
       "      <td>0.027177</td>\n",
       "      <td>-0.153034</td>\n",
       "    </tr>\n",
       "    <tr>\n",
       "      <th>2</th>\n",
       "      <td>01/01/2015</td>\n",
       "      <td>4017100</td>\n",
       "      <td>217.464005</td>\n",
       "      <td>0.020994</td>\n",
       "      <td>-0.320835</td>\n",
       "    </tr>\n",
       "    <tr>\n",
       "      <th>3</th>\n",
       "      <td>01/02/2015</td>\n",
       "      <td>3840500</td>\n",
       "      <td>254.263000</td>\n",
       "      <td>-0.043962</td>\n",
       "      <td>0.169219</td>\n",
       "    </tr>\n",
       "    <tr>\n",
       "      <th>4</th>\n",
       "      <td>01/03/2015</td>\n",
       "      <td>4030600</td>\n",
       "      <td>244.223999</td>\n",
       "      <td>0.049499</td>\n",
       "      <td>-0.039483</td>\n",
       "    </tr>\n",
       "  </tbody>\n",
       "</table>\n",
       "</div>"
      ],
      "text/plain": [
       "         Date   BOGMAS     BTC-USD  BOGMAS_Chg%  BTC-USD_Chg%\n",
       "0  01/11/2014  3830400  378.046997    -0.042759      0.117421\n",
       "1  01/12/2014  3934500  320.192993     0.027177     -0.153034\n",
       "2  01/01/2015  4017100  217.464005     0.020994     -0.320835\n",
       "3  01/02/2015  3840500  254.263000    -0.043962      0.169219\n",
       "4  01/03/2015  4030600  244.223999     0.049499     -0.039483"
      ]
     },
     "execution_count": 3,
     "metadata": {},
     "output_type": "execute_result"
    }
   ],
   "source": [
    "df.head()"
   ]
  },
  {
   "cell_type": "code",
   "execution_count": 4,
   "id": "fd8a196f",
   "metadata": {},
   "outputs": [
    {
     "data": {
      "text/html": [
       "<div>\n",
       "<style scoped>\n",
       "    .dataframe tbody tr th:only-of-type {\n",
       "        vertical-align: middle;\n",
       "    }\n",
       "\n",
       "    .dataframe tbody tr th {\n",
       "        vertical-align: top;\n",
       "    }\n",
       "\n",
       "    .dataframe thead th {\n",
       "        text-align: right;\n",
       "    }\n",
       "</style>\n",
       "<table border=\"1\" class=\"dataframe\">\n",
       "  <thead>\n",
       "    <tr style=\"text-align: right;\">\n",
       "      <th></th>\n",
       "      <th>BOGMAS</th>\n",
       "      <th>BTC-USD</th>\n",
       "      <th>BOGMAS_Chg%</th>\n",
       "      <th>BTC-USD_Chg%</th>\n",
       "    </tr>\n",
       "  </thead>\n",
       "  <tbody>\n",
       "    <tr>\n",
       "      <th>count</th>\n",
       "      <td>1.040000e+02</td>\n",
       "      <td>104.000000</td>\n",
       "      <td>104.000000</td>\n",
       "      <td>104.000000</td>\n",
       "    </tr>\n",
       "    <tr>\n",
       "      <th>mean</th>\n",
       "      <td>4.409703e+06</td>\n",
       "      <td>13896.470768</td>\n",
       "      <td>0.003842</td>\n",
       "      <td>0.067284</td>\n",
       "    </tr>\n",
       "    <tr>\n",
       "      <th>std</th>\n",
       "      <td>9.881736e+05</td>\n",
       "      <td>16048.502204</td>\n",
       "      <td>0.035829</td>\n",
       "      <td>0.224726</td>\n",
       "    </tr>\n",
       "    <tr>\n",
       "      <th>min</th>\n",
       "      <td>3.202700e+06</td>\n",
       "      <td>217.464005</td>\n",
       "      <td>-0.060278</td>\n",
       "      <td>-0.377688</td>\n",
       "    </tr>\n",
       "    <tr>\n",
       "      <th>25%</th>\n",
       "      <td>3.714025e+06</td>\n",
       "      <td>968.738006</td>\n",
       "      <td>-0.012924</td>\n",
       "      <td>-0.076276</td>\n",
       "    </tr>\n",
       "    <tr>\n",
       "      <th>50%</th>\n",
       "      <td>3.903050e+06</td>\n",
       "      <td>8037.154053</td>\n",
       "      <td>0.000969</td>\n",
       "      <td>0.042930</td>\n",
       "    </tr>\n",
       "    <tr>\n",
       "      <th>75%</th>\n",
       "      <td>5.356050e+06</td>\n",
       "      <td>20161.266113</td>\n",
       "      <td>0.015284</td>\n",
       "      <td>0.204502</td>\n",
       "    </tr>\n",
       "    <tr>\n",
       "      <th>max</th>\n",
       "      <td>6.413100e+06</td>\n",
       "      <td>61318.957030</td>\n",
       "      <td>0.247689</td>\n",
       "      <td>0.696288</td>\n",
       "    </tr>\n",
       "  </tbody>\n",
       "</table>\n",
       "</div>"
      ],
      "text/plain": [
       "             BOGMAS       BTC-USD  BOGMAS_Chg%  BTC-USD_Chg%\n",
       "count  1.040000e+02    104.000000   104.000000    104.000000\n",
       "mean   4.409703e+06  13896.470768     0.003842      0.067284\n",
       "std    9.881736e+05  16048.502204     0.035829      0.224726\n",
       "min    3.202700e+06    217.464005    -0.060278     -0.377688\n",
       "25%    3.714025e+06    968.738006    -0.012924     -0.076276\n",
       "50%    3.903050e+06   8037.154053     0.000969      0.042930\n",
       "75%    5.356050e+06  20161.266113     0.015284      0.204502\n",
       "max    6.413100e+06  61318.957030     0.247689      0.696288"
      ]
     },
     "execution_count": 4,
     "metadata": {},
     "output_type": "execute_result"
    }
   ],
   "source": [
    "df.describe()"
   ]
  },
  {
   "cell_type": "code",
   "execution_count": 5,
   "id": "96d800db",
   "metadata": {},
   "outputs": [
    {
     "data": {
      "text/plain": [
       "Text(0, 0.5, 'BTC-USD Chg %')"
      ]
     },
     "execution_count": 5,
     "metadata": {},
     "output_type": "execute_result"
    },
    {
     "data": {
      "image/png": "[encoded data removed]",
      "text/plain": [
       "<Figure size 432x288 with 1 Axes>"
      ]
     },
     "metadata": {
      "needs_background": "light"
     },
     "output_type": "display_data"
    }
   ],
   "source": [
    "plt.scatter(df[\"BOGMAS_Chg%\"],df[\"BTC-USD_Chg%\"], color=\"red\")\n",
    "plt.xlabel(\"Money Supply Chg %\")\n",
    "plt.ylabel(\"BTC-USD Chg %\")"
   ]
  },
  {
   "cell_type": "code",
   "execution_count": 6,
   "id": "160e13da",
   "metadata": {},
   "outputs": [],
   "source": [
    "msk = np.random.rand(len(df)) < 0.8\n",
    "train = df[msk]\n",
    "test = df[~msk]"
   ]
  },
  {
   "cell_type": "code",
   "execution_count": 7,
   "id": "4d62e1aa",
   "metadata": {},
   "outputs": [
    {
     "data": {
      "image/png": "[encoded data removed]",
      "text/plain": [
       "<Figure size 432x288 with 1 Axes>"
      ]
     },
     "metadata": {
      "needs_background": "light"
     },
     "output_type": "display_data"
    }
   ],
   "source": [
    "plt.scatter(train[\"BOGMAS_Chg%\"], train[\"BTC-USD_Chg%\"], color=\"black\")\n",
    "plt.xlabel(\"Money Supply\")\n",
    "plt.ylabel(\"BTC-USD Chg%\")\n",
    "plt.show()"
   ]
  },
  {
   "cell_type": "code",
   "execution_count": 8,
   "id": "474c07bd",
   "metadata": {},
   "outputs": [
    {
     "name": "stdout",
     "output_type": "stream",
     "text": [
      "Coefficients: [[0.84881538]]\n",
      "Intercept: [0.06512447]\n"
     ]
    }
   ],
   "source": [
    "from sklearn import linear_model\n",
    "regr = linear_model.LinearRegression()\n",
    "train_x = np.asanyarray(train[[\"BOGMAS_Chg%\"]])\n",
    "train_y = np.asanyarray(train[[\"BTC-USD_Chg%\"]])\n",
    "regr.fit(train_x, train_y)\n",
    "\n",
    "print(f\"Coefficients: {regr.coef_}\")\n",
    "print(f\"Intercept: {regr.intercept_}\")"
   ]
  },
  {
   "cell_type": "code",
   "execution_count": 9,
   "id": "9f296a5e",
   "metadata": {},
   "outputs": [
    {
     "data": {
      "text/plain": [
       "[<matplotlib.lines.Line2D at 0x28617479fa0>]"
      ]
     },
     "execution_count": 9,
     "metadata": {},
     "output_type": "execute_result"
    },
    {
     "data": {
      "image/png": "[encoded data removed]",
      "text/plain": [
       "<Figure size 432x288 with 1 Axes>"
      ]
     },
     "metadata": {
      "needs_background": "light"
     },
     "output_type": "display_data"
    }
   ],
   "source": [
    "plt.scatter(train[\"BOGMAS_Chg%\"], train[\"BTC-USD_Chg%\"], color=\"red\")\n",
    "plt.scatter(test[\"BOGMAS_Chg%\"], test[\"BTC-USD_Chg%\"], color=\"black\")\n",
    "plt.plot(train_x, regr.coef_[0][0]*train_x + regr.intercept_[0], '-b')"
   ]
  },
  {
   "cell_type": "code",
   "execution_count": 10,
   "id": "d7ad2e29",
   "metadata": {},
   "outputs": [
    {
     "name": "stdout",
     "output_type": "stream",
     "text": [
      "Mean absolute error: 0.18\n",
      "Residual sum of squares (MSE): 0.06\n",
      "R2-score: -0.06\n"
     ]
    }
   ],
   "source": [
    "from sklearn.metrics import r2_score\n",
    "\n",
    "test_x = np.asanyarray(test[['BOGMAS_Chg%']])\n",
    "test_y = np.asanyarray(test[['BTC-USD_Chg%']])\n",
    "test_y_ = regr.predict(test_x)\n",
    "\n",
    "print(\"Mean absolute error: %.2f\" % np.mean(np.absolute(test_y_ - test_y)))\n",
    "print(\"Residual sum of squares (MSE): %.2f\" % np.mean((test_y_ - test_y) ** 2))\n",
    "print(\"R2-score: %.2f\" % r2_score(test_y , test_y_) )"
   ]
  },
  {
   "cell_type": "code",
   "execution_count": 17,
   "id": "2d8a3be4",
   "metadata": {},
   "outputs": [],
   "source": [
    "from scipy.stats import pearsonr"
   ]
  },
  {
   "cell_type": "code",
   "execution_count": 18,
   "id": "9b33993b",
   "metadata": {},
   "outputs": [],
   "source": [
    "corr_coef, p_val = pearsonr(df[\"BOGMAS_Chg%\"], df[\"BTC-USD_Chg%\"]) "
   ]
  },
  {
   "cell_type": "code",
   "execution_count": 20,
   "id": "c9e25f54",
   "metadata": {},
   "outputs": [
    {
     "name": "stdout",
     "output_type": "stream",
     "text": [
      "correlation between money supply and BTC is: 0.10828321296666125\n",
      "significance of this result is 0.2738888728237238\n"
     ]
    }
   ],
   "source": [
    "print(f\"correlation between money supply and BTC is: {corr_coef}\")\n",
    "print(f\"significance of this result is {p_val}\")"
   ]
  },
  {
   "cell_type": "code",
   "execution_count": null,
   "id": "4c7da754",
   "metadata": {},
   "outputs": [],
   "source": []
  },
  {
   "cell_type": "code",
   "execution_count": null,
   "id": "b2e7828c",
   "metadata": {},
   "outputs": [],
   "source": []
  }
 ],
 "metadata": {
  "kernelspec": {
   "display_name": "Python 3 (ipykernel)",
   "language": "python",
   "name": "python3"
  },
  "language_info": {
   "codemirror_mode": {
    "name": "ipython",
    "version": 3
   },
   "file_extension": ".py",
   "mimetype": "text/x-python",
   "name": "python",
   "nbconvert_exporter": "python",
   "pygments_lexer": "ipython3",
   "version": "3.9.12"
  }
 },
 "nbformat": 4,
 "nbformat_minor": 5
}
