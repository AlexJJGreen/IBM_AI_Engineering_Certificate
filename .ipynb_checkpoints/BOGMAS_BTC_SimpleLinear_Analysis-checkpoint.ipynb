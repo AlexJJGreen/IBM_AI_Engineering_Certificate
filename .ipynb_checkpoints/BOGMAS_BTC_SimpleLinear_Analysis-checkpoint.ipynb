{
 "cells": [
  {
   "cell_type": "code",
   "execution_count": 1,
   "id": "10aca9f5",
   "metadata": {},
   "outputs": [],
   "source": [
    "import matplotlib.pyplot as plt\n",
    "import pandas as pd\n",
    "import pylab as pl\n",
    "import numpy as np\n",
    "%matplotlib inline"
   ]
  },
  {
   "cell_type": "code",
   "execution_count": 3,
   "id": "bc5295e5",
   "metadata": {},
   "outputs": [],
   "source": [
    "df = pd.read_csv(\"Datasets/BTC_NASDAQ_AUG22-AUG23.csv\")"
   ]
  },
  {
   "cell_type": "code",
   "execution_count": 4,
   "id": "845b6e63",
   "metadata": {},
   "outputs": [
    {
     "data": {
      "text/html": [
       "<div>\n",
       "<style scoped>\n",
       "    .dataframe tbody tr th:only-of-type {\n",
       "        vertical-align: middle;\n",
       "    }\n",
       "\n",
       "    .dataframe tbody tr th {\n",
       "        vertical-align: top;\n",
       "    }\n",
       "\n",
       "    .dataframe thead th {\n",
       "        text-align: right;\n",
       "    }\n",
       "</style>\n",
       "<table border=\"1\" class=\"dataframe\">\n",
       "  <thead>\n",
       "    <tr style=\"text-align: right;\">\n",
       "      <th></th>\n",
       "      <th>Date</th>\n",
       "      <th>BTC_Close</th>\n",
       "      <th>BTC_Vol</th>\n",
       "      <th>NASDAQ_Close</th>\n",
       "      <th>NASDAQ_Vol</th>\n",
       "      <th>BTC_Chg%</th>\n",
       "      <th>NASDAQ_Chg%</th>\n",
       "    </tr>\n",
       "  </thead>\n",
       "  <tbody>\n",
       "    <tr>\n",
       "      <th>0</th>\n",
       "      <td>15/08/2022</td>\n",
       "      <td>21534.12109</td>\n",
       "      <td>2.087640e+11</td>\n",
       "      <td>12705.21973</td>\n",
       "      <td>24086490000</td>\n",
       "      <td>0.000000</td>\n",
       "      <td>0.000000</td>\n",
       "    </tr>\n",
       "    <tr>\n",
       "      <th>1</th>\n",
       "      <td>22/08/2022</td>\n",
       "      <td>19616.81445</td>\n",
       "      <td>2.233460e+11</td>\n",
       "      <td>12141.70996</td>\n",
       "      <td>20877800000</td>\n",
       "      <td>-0.089036</td>\n",
       "      <td>-0.044353</td>\n",
       "    </tr>\n",
       "    <tr>\n",
       "      <th>2</th>\n",
       "      <td>29/08/2022</td>\n",
       "      <td>19986.71289</td>\n",
       "      <td>2.085110e+11</td>\n",
       "      <td>11630.86035</td>\n",
       "      <td>22893680000</td>\n",
       "      <td>0.018856</td>\n",
       "      <td>-0.042074</td>\n",
       "    </tr>\n",
       "    <tr>\n",
       "      <th>3</th>\n",
       "      <td>05/09/2022</td>\n",
       "      <td>21769.25586</td>\n",
       "      <td>2.595290e+11</td>\n",
       "      <td>12112.30957</td>\n",
       "      <td>17800080000</td>\n",
       "      <td>0.089186</td>\n",
       "      <td>0.041394</td>\n",
       "    </tr>\n",
       "    <tr>\n",
       "      <th>4</th>\n",
       "      <td>12/09/2022</td>\n",
       "      <td>19419.50586</td>\n",
       "      <td>2.619000e+11</td>\n",
       "      <td>11448.40039</td>\n",
       "      <td>26454340000</td>\n",
       "      <td>-0.107939</td>\n",
       "      <td>-0.054813</td>\n",
       "    </tr>\n",
       "  </tbody>\n",
       "</table>\n",
       "</div>"
      ],
      "text/plain": [
       "         Date    BTC_Close       BTC_Vol  NASDAQ_Close   NASDAQ_Vol  BTC_Chg%  \\\n",
       "0  15/08/2022  21534.12109  2.087640e+11   12705.21973  24086490000  0.000000   \n",
       "1  22/08/2022  19616.81445  2.233460e+11   12141.70996  20877800000 -0.089036   \n",
       "2  29/08/2022  19986.71289  2.085110e+11   11630.86035  22893680000  0.018856   \n",
       "3  05/09/2022  21769.25586  2.595290e+11   12112.30957  17800080000  0.089186   \n",
       "4  12/09/2022  19419.50586  2.619000e+11   11448.40039  26454340000 -0.107939   \n",
       "\n",
       "   NASDAQ_Chg%  \n",
       "0     0.000000  \n",
       "1    -0.044353  \n",
       "2    -0.042074  \n",
       "3     0.041394  \n",
       "4    -0.054813  "
      ]
     },
     "execution_count": 4,
     "metadata": {},
     "output_type": "execute_result"
    }
   ],
   "source": [
    "df.head()"
   ]
  },
  {
   "cell_type": "code",
   "execution_count": 5,
   "id": "fd8a196f",
   "metadata": {},
   "outputs": [
    {
     "data": {
      "text/html": [
       "<div>\n",
       "<style scoped>\n",
       "    .dataframe tbody tr th:only-of-type {\n",
       "        vertical-align: middle;\n",
       "    }\n",
       "\n",
       "    .dataframe tbody tr th {\n",
       "        vertical-align: top;\n",
       "    }\n",
       "\n",
       "    .dataframe thead th {\n",
       "        text-align: right;\n",
       "    }\n",
       "</style>\n",
       "<table border=\"1\" class=\"dataframe\">\n",
       "  <thead>\n",
       "    <tr style=\"text-align: right;\">\n",
       "      <th></th>\n",
       "      <th>BTC_Close</th>\n",
       "      <th>BTC_Vol</th>\n",
       "      <th>NASDAQ_Close</th>\n",
       "      <th>NASDAQ_Vol</th>\n",
       "      <th>BTC_Chg%</th>\n",
       "      <th>NASDAQ_Chg%</th>\n",
       "    </tr>\n",
       "  </thead>\n",
       "  <tbody>\n",
       "    <tr>\n",
       "      <th>count</th>\n",
       "      <td>54.000000</td>\n",
       "      <td>5.400000e+01</td>\n",
       "      <td>54.000000</td>\n",
       "      <td>5.400000e+01</td>\n",
       "      <td>54.000000</td>\n",
       "      <td>54.000000</td>\n",
       "    </tr>\n",
       "    <tr>\n",
       "      <th>mean</th>\n",
       "      <td>23747.812175</td>\n",
       "      <td>1.608154e+11</td>\n",
       "      <td>12032.758428</td>\n",
       "      <td>2.288073e+10</td>\n",
       "      <td>0.008154</td>\n",
       "      <td>0.001748</td>\n",
       "    </tr>\n",
       "    <tr>\n",
       "      <th>std</th>\n",
       "      <td>4867.658229</td>\n",
       "      <td>8.195016e+10</td>\n",
       "      <td>1148.159960</td>\n",
       "      <td>5.074359e+09</td>\n",
       "      <td>0.073038</td>\n",
       "      <td>0.030558</td>\n",
       "    </tr>\n",
       "    <tr>\n",
       "      <th>min</th>\n",
       "      <td>16291.832030</td>\n",
       "      <td>1.193846e+10</td>\n",
       "      <td>10321.389650</td>\n",
       "      <td>3.376535e+09</td>\n",
       "      <td>-0.218533</td>\n",
       "      <td>-0.056492</td>\n",
       "    </tr>\n",
       "    <tr>\n",
       "      <th>25%</th>\n",
       "      <td>19476.571288</td>\n",
       "      <td>9.933557e+10</td>\n",
       "      <td>11139.274660</td>\n",
       "      <td>2.179026e+10</td>\n",
       "      <td>-0.025234</td>\n",
       "      <td>-0.019293</td>\n",
       "    </tr>\n",
       "    <tr>\n",
       "      <th>50%</th>\n",
       "      <td>23258.439455</td>\n",
       "      <td>1.404810e+11</td>\n",
       "      <td>11805.614745</td>\n",
       "      <td>2.332016e+10</td>\n",
       "      <td>0.001291</td>\n",
       "      <td>0.003485</td>\n",
       "    </tr>\n",
       "    <tr>\n",
       "      <th>75%</th>\n",
       "      <td>28299.615233</td>\n",
       "      <td>1.976572e+11</td>\n",
       "      <td>12908.072755</td>\n",
       "      <td>2.566143e+10</td>\n",
       "      <td>0.020558</td>\n",
       "      <td>0.022237</td>\n",
       "    </tr>\n",
       "    <tr>\n",
       "      <th>max</th>\n",
       "      <td>30620.769530</td>\n",
       "      <td>4.714090e+11</td>\n",
       "      <td>14316.660160</td>\n",
       "      <td>3.104905e+10</td>\n",
       "      <td>0.265058</td>\n",
       "      <td>0.080960</td>\n",
       "    </tr>\n",
       "  </tbody>\n",
       "</table>\n",
       "</div>"
      ],
      "text/plain": [
       "          BTC_Close       BTC_Vol  NASDAQ_Close    NASDAQ_Vol   BTC_Chg%  \\\n",
       "count     54.000000  5.400000e+01     54.000000  5.400000e+01  54.000000   \n",
       "mean   23747.812175  1.608154e+11  12032.758428  2.288073e+10   0.008154   \n",
       "std     4867.658229  8.195016e+10   1148.159960  5.074359e+09   0.073038   \n",
       "min    16291.832030  1.193846e+10  10321.389650  3.376535e+09  -0.218533   \n",
       "25%    19476.571288  9.933557e+10  11139.274660  2.179026e+10  -0.025234   \n",
       "50%    23258.439455  1.404810e+11  11805.614745  2.332016e+10   0.001291   \n",
       "75%    28299.615233  1.976572e+11  12908.072755  2.566143e+10   0.020558   \n",
       "max    30620.769530  4.714090e+11  14316.660160  3.104905e+10   0.265058   \n",
       "\n",
       "       NASDAQ_Chg%  \n",
       "count    54.000000  \n",
       "mean      0.001748  \n",
       "std       0.030558  \n",
       "min      -0.056492  \n",
       "25%      -0.019293  \n",
       "50%       0.003485  \n",
       "75%       0.022237  \n",
       "max       0.080960  "
      ]
     },
     "execution_count": 5,
     "metadata": {},
     "output_type": "execute_result"
    }
   ],
   "source": [
    "df.describe()"
   ]
  },
  {
   "cell_type": "code",
   "execution_count": 9,
   "id": "96d800db",
   "metadata": {},
   "outputs": [
    {
     "data": {
      "text/plain": [
       "Text(0, 0.5, 'BTC USD')"
      ]
     },
     "execution_count": 9,
     "metadata": {},
     "output_type": "execute_result"
    },
    {
     "data": {
      "image/png": "[encoded data removed]",
      "text/plain": [
       "<Figure size 432x288 with 1 Axes>"
      ]
     },
     "metadata": {
      "needs_background": "light"
     },
     "output_type": "display_data"
    }
   ],
   "source": [
    "plt.scatter(df[\"NASDAQ_Chg%\"],df[\"BTC_Chg%\"], color=\"red\")\n",
    "plt.xlabel(\"NASDAQ\")\n",
    "plt.ylabel(\"BTC USD\")"
   ]
  },
  {
   "cell_type": "code",
   "execution_count": 10,
   "id": "160e13da",
   "metadata": {},
   "outputs": [],
   "source": [
    "msk = np.random.rand(len(df)) < 0.8\n",
    "train = df[msk]\n",
    "test = df[~msk]"
   ]
  },
  {
   "cell_type": "code",
   "execution_count": 11,
   "id": "4d62e1aa",
   "metadata": {},
   "outputs": [
    {
     "data": {
      "image/png": "[encoded data removed]",
      "text/plain": [
       "<Figure size 432x288 with 1 Axes>"
      ]
     },
     "metadata": {
      "needs_background": "light"
     },
     "output_type": "display_data"
    }
   ],
   "source": [
    "plt.scatter(train[\"NASDAQ_Chg%\"], train[\"BTC_Chg%\"], color=\"black\")\n",
    "plt.xlabel(\"NASDAQ\")\n",
    "plt.ylabel(\"BTC USD\")\n",
    "plt.show()"
   ]
  },
  {
   "cell_type": "code",
   "execution_count": 13,
   "id": "474c07bd",
   "metadata": {},
   "outputs": [
    {
     "name": "stdout",
     "output_type": "stream",
     "text": [
      "Coefficients: [[0.39331779]]\n",
      "Intercept: [0.01025751]\n"
     ]
    }
   ],
   "source": [
    "from sklearn import linear_model\n",
    "regr = linear_model.LinearRegression()\n",
    "train_x = np.asanyarray(train[[\"NASDAQ_Chg%\"]])\n",
    "train_y = np.asanyarray(train[[\"BTC_Chg%\"]])\n",
    "regr.fit(train_x, train_y)\n",
    "\n",
    "print(f\"Coefficients: {regr.coef_}\")\n",
    "print(f\"Intercept: {regr.intercept_}\")"
   ]
  },
  {
   "cell_type": "code",
   "execution_count": 17,
   "id": "9f296a5e",
   "metadata": {},
   "outputs": [
    {
     "data": {
      "text/plain": [
       "[<matplotlib.lines.Line2D at 0x1a1c33d5700>]"
      ]
     },
     "execution_count": 17,
     "metadata": {},
     "output_type": "execute_result"
    },
    {
     "data": {
      "image/png": "[encoded data removed]",
      "text/plain": [
       "<Figure size 432x288 with 1 Axes>"
      ]
     },
     "metadata": {
      "needs_background": "light"
     },
     "output_type": "display_data"
    }
   ],
   "source": [
    "plt.scatter(train[\"NASDAQ_Chg%\"], train[\"BTC_Chg%\"], color=\"red\")\n",
    "plt.scatter(test[\"NASDAQ_Chg%\"], test[\"BTC_Chg%\"], color=\"black\")\n",
    "plt.plot(train_x, regr.coef_[0][0]*train_x + regr.intercept_[0], '-b')"
   ]
  },
  {
   "cell_type": "code",
   "execution_count": 18,
   "id": "d7ad2e29",
   "metadata": {},
   "outputs": [
    {
     "name": "stdout",
     "output_type": "stream",
     "text": [
      "Mean absolute error: 0.03\n",
      "Residual sum of squares (MSE): 0.00\n",
      "R2-score: 0.19\n"
     ]
    }
   ],
   "source": [
    "from sklearn.metrics import r2_score\n",
    "\n",
    "test_x = np.asanyarray(test[['NASDAQ_Chg%']])\n",
    "test_y = np.asanyarray(test[['BTC_Chg%']])\n",
    "test_y_ = regr.predict(test_x)\n",
    "\n",
    "print(\"Mean absolute error: %.2f\" % np.mean(np.absolute(test_y_ - test_y)))\n",
    "print(\"Residual sum of squares (MSE): %.2f\" % np.mean((test_y_ - test_y) ** 2))\n",
    "print(\"R2-score: %.2f\" % r2_score(test_y , test_y_) )"
   ]
  },
  {
   "cell_type": "code",
   "execution_count": null,
   "id": "2d8a3be4",
   "metadata": {},
   "outputs": [],
   "source": []
  }
 ],
 "metadata": {
  "kernelspec": {
   "display_name": "Python 3 (ipykernel)",
   "language": "python",
   "name": "python3"
  },
  "language_info": {
   "codemirror_mode": {
    "name": "ipython",
    "version": 3
   },
   "file_extension": ".py",
   "mimetype": "text/x-python",
   "name": "python",
   "nbconvert_exporter": "python",
   "pygments_lexer": "ipython3",
   "version": "3.9.12"
  }
 },
 "nbformat": 4,
 "nbformat_minor": 5
}
