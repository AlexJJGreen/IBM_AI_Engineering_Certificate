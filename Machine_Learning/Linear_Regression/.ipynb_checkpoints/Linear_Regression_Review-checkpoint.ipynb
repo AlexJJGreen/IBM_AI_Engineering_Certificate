{
 "cells": [
  {
   "cell_type": "markdown",
   "id": "6e7334c0",
   "metadata": {},
   "source": [
    "# Linear Regression Review"
   ]
  },
  {
   "cell_type": "markdown",
   "id": "e8973541",
   "metadata": {},
   "source": [
    "So the purpose of Lienar Regression is to predict a value value (y) or dependent variable, given another (x) or the independent variable.\n",
    "\n",
    "Multiple Linear Regression follows the same pattern but simply extends to multiple independent variables."
   ]
  },
  {
   "cell_type": "markdown",
   "id": "9aa3dc96",
   "metadata": {},
   "source": [
    "* The dependent variable must be continuous and not discreet\n",
    "* Dependent variables can be conitnuous or categorical"
   ]
  },
  {
   "cell_type": "markdown",
   "id": "7febce0e",
   "metadata": {},
   "source": [
    "The predicted value of the dependent variable in a linear regression model is represented by the function:\n",
    "\n",
    "yhat = theta_0 + theta_1 * x_1\n",
    "\n",
    "in this function y_hat (hat for predicted) is equal to theta_0 (the intercept of the line with the y axis) + theta_1 (the slope coefficient of the line) multiplied by x.\n",
    "\n"
   ]
  },
  {
   "cell_type": "markdown",
   "id": "44ead1c1",
   "metadata": {},
   "source": [
    "Linear regression then estimate the coefficients (thetas) of the line that best fits the data or 'the line of best fit'"
   ]
  },
  {
   "cell_type": "markdown",
   "id": "06730ae7",
   "metadata": {},
   "source": [
    "The actual value of y and y_hat are more often than not, not the same.\n",
    "\n",
    "The difference between y and y_hat is the distance from the observation to the fitting line. It is referred to as the residual error."
   ]
  },
  {
   "cell_type": "markdown",
   "id": "a516daf8",
   "metadata": {},
   "source": [
    "The mean average of the residual errors shows how well the trend line fits the dataset.\n",
    "\n",
    "It is represented by the function MSE or 'mean squared error' where:\n",
    "\n",
    "MSE= \n",
    "n\n",
    "1\n",
    "​\n",
    " ∑ \n",
    "i=1\n",
    "n\n",
    "​\n",
    " (y \n",
    "i\n",
    "​\n",
    " − \n",
    "y\n",
    "^\n",
    "​\n",
    "  \n",
    "i\n",
    "​\n",
    " ) \n",
    "2"
   ]
  },
  {
   "cell_type": "markdown",
   "id": "b4709d19",
   "metadata": {},
   "source": [
    "#  The objective of linear regression is to minimise the MSE equation"
   ]
  },
  {
   "cell_type": "markdown",
   "id": "e3bc8371",
   "metadata": {},
   "source": [
    "There are two approaches to this, a mathematical approach and a optimization approach"
   ]
  },
  {
   "cell_type": "markdown",
   "id": "1646f265",
   "metadata": {},
   "source": [
    "### Regression Evaluation"
   ]
  },
  {
   "cell_type": "markdown",
   "id": "dd7a8ed4",
   "metadata": {},
   "source": [
    "There are two main ways to evaluate a linear regression model:\n",
    "\n",
    "1) Train and Test\n",
    "\n",
    "2) Train/Test Splits"
   ]
  },
  {
   "cell_type": "markdown",
   "id": "e3cdec5d",
   "metadata": {},
   "source": [
    "Training and testing both trains on the whole dataset and then tests on a portion of the dataset with the labels (actual values) removed, whereas as the name implies, train test splits trains on a portion of the data and then tests on another."
   ]
  },
  {
   "cell_type": "markdown",
   "id": "03e3475c",
   "metadata": {},
   "source": [
    "The simplest metric for evaluation is the average of the errors or the difference between the actual values (labels) and predicted values."
   ]
  },
  {
   "cell_type": "markdown",
   "id": "beccddfa",
   "metadata": {},
   "source": [
    "Accuracy can be sub-divided into two types:\n",
    "\n",
    "* Training Accuracy\n",
    "* Out-of-sample Accuracy\n",
    "\n",
    "As the name implies, training accuracy is the accuracy of the model on the trainign data whereas out-of-sample accuracy is the accuracy on data not in the model."
   ]
  },
  {
   "cell_type": "markdown",
   "id": "7dfd1fa5",
   "metadata": {},
   "source": [
    "The issue with not using a split is this will normally produce a high training accuracy but low oos accuracy, as the model becomes 'over-fitted', meaning it is too highly attuned to the dataset and cannot be generalized."
   ]
  },
  {
   "cell_type": "markdown",
   "id": "28ac6471",
   "metadata": {},
   "source": [
    "By using a train test split, this issue can be to some extent mitigated.\n",
    "\n",
    "The issue with this is that the outcomes are highly dependent on the datasets the model is trained on.\n"
   ]
  },
  {
   "cell_type": "markdown",
   "id": "0a379cf5",
   "metadata": {},
   "source": [
    "Another approach to evaluation that resolves most of these issues is K-Fold cross validation"
   ]
  },
  {
   "cell_type": "markdown",
   "id": "a974a2a2",
   "metadata": {},
   "source": [
    "### K-Fold Cross-Validation"
   ]
  },
  {
   "cell_type": "markdown",
   "id": "5485a0db",
   "metadata": {},
   "source": [
    "In K-Fold cross validation, the dataset is split into x folds. The data in the fold is used for testing and the rest for training. This is repeated x times and the average accuracy calculated."
   ]
  },
  {
   "cell_type": "markdown",
   "id": "e464bc2f",
   "metadata": {},
   "source": [
    "### Evaluation Metrics"
   ]
  },
  {
   "cell_type": "markdown",
   "id": "9ca985db",
   "metadata": {},
   "source": [
    "In Regression there are several evaluation metrics. Most commonly used are:\n",
    "\n",
    "* Mean Absolute Error\n",
    "* Mean Square Error\n",
    "* Root Mean Squared Error\n",
    "* R - Squared\n",
    "\n",
    "#### Mean absolute Error is the mean of the total sum of errors\n",
    "#### Mean squared error is more popular that MAE as it highlights larger outliers\n",
    "#### Root mean is the squareroot of the mse and is very popular as it can be interpreted in the same units as the response vector\n",
    "#### RAE Relative Absolute Error or residual sum of squares takes the total absolute error (y - y_hat) and divides by the total absolute error of the simple predictor (y - y_mean)\n",
    "#### Relative squared error is similar to RAE and is used to calculate R^2 except squared, not absolute.\n",
    "#### R^2 is 1 - the RSE and shows how accurate the values are to the fitted regression line"
   ]
  },
  {
   "cell_type": "code",
   "execution_count": 2,
   "id": "ebe31f21",
   "metadata": {},
   "outputs": [],
   "source": [
    "import matplotlib.pyplot as plt\n",
    "import pandas as pd\n",
    "import pylab as pl\n",
    "import numpy as np\n",
    "%matplotlib inline"
   ]
  },
  {
   "cell_type": "code",
   "execution_count": null,
   "id": "2290e00f",
   "metadata": {},
   "outputs": [],
   "source": [
    "df = pd.read_csv(\"../Datasets/BTC-USD_HBAR-USD_Jan22-Aug23.csv\")"
   ]
  }
 ],
 "metadata": {
  "kernelspec": {
   "display_name": "Python 3 (ipykernel)",
   "language": "python",
   "name": "python3"
  },
  "language_info": {
   "codemirror_mode": {
    "name": "ipython",
    "version": 3
   },
   "file_extension": ".py",
   "mimetype": "text/x-python",
   "name": "python",
   "nbconvert_exporter": "python",
   "pygments_lexer": "ipython3",
   "version": "3.9.12"
  }
 },
 "nbformat": 4,
 "nbformat_minor": 5
}
