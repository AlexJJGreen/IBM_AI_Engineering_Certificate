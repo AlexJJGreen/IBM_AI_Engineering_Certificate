{
 "cells": [
  {
   "cell_type": "code",
   "execution_count": 8,
   "id": "39e2f588",
   "metadata": {},
   "outputs": [],
   "source": [
    "import numpy as np\n",
    "import matplotlib.pyplot as plt\n",
    "import pandas as pd\n",
    "import numpy as np\n",
    "from sklearn import preprocessing\n",
    "%matplotlib inline"
   ]
  },
  {
   "cell_type": "code",
   "execution_count": 9,
   "id": "5064afec",
   "metadata": {},
   "outputs": [],
   "source": [
    "df = pd.read_csv(\"../Datasets/HBAR-USD.csv\")"
   ]
  },
  {
   "cell_type": "code",
   "execution_count": 10,
   "id": "1d3599ef",
   "metadata": {},
   "outputs": [
    {
     "data": {
      "text/html": [
       "<div>\n",
       "<style scoped>\n",
       "    .dataframe tbody tr th:only-of-type {\n",
       "        vertical-align: middle;\n",
       "    }\n",
       "\n",
       "    .dataframe tbody tr th {\n",
       "        vertical-align: top;\n",
       "    }\n",
       "\n",
       "    .dataframe thead th {\n",
       "        text-align: right;\n",
       "    }\n",
       "</style>\n",
       "<table border=\"1\" class=\"dataframe\">\n",
       "  <thead>\n",
       "    <tr style=\"text-align: right;\">\n",
       "      <th></th>\n",
       "      <th>Date</th>\n",
       "      <th>Open</th>\n",
       "      <th>High</th>\n",
       "      <th>Low</th>\n",
       "      <th>Close</th>\n",
       "      <th>Adj Close</th>\n",
       "      <th>Volume</th>\n",
       "    </tr>\n",
       "  </thead>\n",
       "  <tbody>\n",
       "    <tr>\n",
       "      <th>0</th>\n",
       "      <td>2022-01-03</td>\n",
       "      <td>0.312121</td>\n",
       "      <td>0.318868</td>\n",
       "      <td>0.298558</td>\n",
       "      <td>0.306500</td>\n",
       "      <td>0.306500</td>\n",
       "      <td>96846219.0</td>\n",
       "    </tr>\n",
       "    <tr>\n",
       "      <th>1</th>\n",
       "      <td>2022-01-04</td>\n",
       "      <td>0.306505</td>\n",
       "      <td>0.336852</td>\n",
       "      <td>0.303840</td>\n",
       "      <td>0.325898</td>\n",
       "      <td>0.325898</td>\n",
       "      <td>252170782.0</td>\n",
       "    </tr>\n",
       "    <tr>\n",
       "      <th>2</th>\n",
       "      <td>2022-01-05</td>\n",
       "      <td>0.325748</td>\n",
       "      <td>0.339621</td>\n",
       "      <td>0.272767</td>\n",
       "      <td>0.288261</td>\n",
       "      <td>0.288261</td>\n",
       "      <td>229076508.0</td>\n",
       "    </tr>\n",
       "    <tr>\n",
       "      <th>3</th>\n",
       "      <td>2022-01-06</td>\n",
       "      <td>0.288160</td>\n",
       "      <td>0.298847</td>\n",
       "      <td>0.272523</td>\n",
       "      <td>0.294404</td>\n",
       "      <td>0.294404</td>\n",
       "      <td>166279993.0</td>\n",
       "    </tr>\n",
       "    <tr>\n",
       "      <th>4</th>\n",
       "      <td>2022-01-07</td>\n",
       "      <td>0.294270</td>\n",
       "      <td>0.298802</td>\n",
       "      <td>0.267786</td>\n",
       "      <td>0.272412</td>\n",
       "      <td>0.272412</td>\n",
       "      <td>188832915.0</td>\n",
       "    </tr>\n",
       "  </tbody>\n",
       "</table>\n",
       "</div>"
      ],
      "text/plain": [
       "         Date      Open      High       Low     Close  Adj Close       Volume\n",
       "0  2022-01-03  0.312121  0.318868  0.298558  0.306500   0.306500   96846219.0\n",
       "1  2022-01-04  0.306505  0.336852  0.303840  0.325898   0.325898  252170782.0\n",
       "2  2022-01-05  0.325748  0.339621  0.272767  0.288261   0.288261  229076508.0\n",
       "3  2022-01-06  0.288160  0.298847  0.272523  0.294404   0.294404  166279993.0\n",
       "4  2022-01-07  0.294270  0.298802  0.267786  0.272412   0.272412  188832915.0"
      ]
     },
     "execution_count": 10,
     "metadata": {},
     "output_type": "execute_result"
    }
   ],
   "source": [
    "df.head()"
   ]
  },
  {
   "cell_type": "code",
   "execution_count": 35,
   "id": "c83c9759",
   "metadata": {},
   "outputs": [],
   "source": [
    "def RSI(closing_prices, period):\n",
    "    # df[f\"RSI_{period}\"] = []\n",
    "    for i in range(1, len(closing_prices)):\n",
    "        output[i] = closing_prices[i] - closing_prices[i - 1]\n",
    "    for idx,price in enumerate(closing_prices):\n",
    "        if idx >= period:\n",
    "            msk_vector = closing_prices[idx - period:idx]\n",
    "            print(msk_vector)\n",
    "            pos_msk = msk_vector > 0\n",
    "            pos_vals = msk_vector[pos_msk]\n",
    "            neg_vals = msk_vector[~pos_msk]\n",
    "            pos_mean = np.sum(pos_vals) / period\n",
    "            neg_mean = np.sum(neg_vals) / period\n",
    "            rs = pos_mean / neg_mean\n",
    "            rsi = 100 - (100 / (1 + rs))\n",
    "            #print(rsi)\n",
    "        "
   ]
  },
  {
   "cell_type": "code",
   "execution_count": 36,
   "id": "c01d116b",
   "metadata": {},
   "outputs": [
    {
     "ename": "NameError",
     "evalue": "name 'output' is not defined",
     "output_type": "error",
     "traceback": [
      "\u001b[1;31m---------------------------------------------------------------------------\u001b[0m",
      "\u001b[1;31mNameError\u001b[0m                                 Traceback (most recent call last)",
      "Input \u001b[1;32mIn [36]\u001b[0m, in \u001b[0;36m<cell line: 1>\u001b[1;34m()\u001b[0m\n\u001b[1;32m----> 1\u001b[0m \u001b[43mRSI\u001b[49m\u001b[43m(\u001b[49m\u001b[43mdf\u001b[49m\u001b[43m[\u001b[49m\u001b[38;5;124;43m\"\u001b[39;49m\u001b[38;5;124;43mClose\u001b[39;49m\u001b[38;5;124;43m\"\u001b[39;49m\u001b[43m]\u001b[49m\u001b[43m,\u001b[49m\u001b[38;5;241;43m14\u001b[39;49m\u001b[43m)\u001b[49m\n",
      "Input \u001b[1;32mIn [35]\u001b[0m, in \u001b[0;36mRSI\u001b[1;34m(closing_prices, period)\u001b[0m\n\u001b[0;32m      1\u001b[0m \u001b[38;5;28;01mdef\u001b[39;00m \u001b[38;5;21mRSI\u001b[39m(closing_prices, period):\n\u001b[0;32m      2\u001b[0m     \u001b[38;5;66;03m# df[f\"RSI_{period}\"] = []\u001b[39;00m\n\u001b[0;32m      3\u001b[0m     \u001b[38;5;28;01mfor\u001b[39;00m i \u001b[38;5;129;01min\u001b[39;00m \u001b[38;5;28mrange\u001b[39m(\u001b[38;5;241m1\u001b[39m, \u001b[38;5;28mlen\u001b[39m(closing_prices)):\n\u001b[1;32m----> 4\u001b[0m         \u001b[43moutput\u001b[49m[i] \u001b[38;5;241m=\u001b[39m closing_prices[i] \u001b[38;5;241m-\u001b[39m closing_prices[i \u001b[38;5;241m-\u001b[39m \u001b[38;5;241m1\u001b[39m]\n\u001b[0;32m      5\u001b[0m     \u001b[38;5;28;01mfor\u001b[39;00m idx,price \u001b[38;5;129;01min\u001b[39;00m \u001b[38;5;28menumerate\u001b[39m(closing_prices):\n\u001b[0;32m      6\u001b[0m         \u001b[38;5;28;01mif\u001b[39;00m idx \u001b[38;5;241m>\u001b[39m\u001b[38;5;241m=\u001b[39m period:\n",
      "\u001b[1;31mNameError\u001b[0m: name 'output' is not defined"
     ]
    }
   ],
   "source": [
    "RSI(df[\"Close\"],14)"
   ]
  },
  {
   "cell_type": "code",
   "execution_count": null,
   "id": "6cba68cd",
   "metadata": {},
   "outputs": [],
   "source": []
  }
 ],
 "metadata": {
  "kernelspec": {
   "display_name": "Python 3 (ipykernel)",
   "language": "python",
   "name": "python3"
  },
  "language_info": {
   "codemirror_mode": {
    "name": "ipython",
    "version": 3
   },
   "file_extension": ".py",
   "mimetype": "text/x-python",
   "name": "python",
   "nbconvert_exporter": "python",
   "pygments_lexer": "ipython3",
   "version": "3.9.12"
  }
 },
 "nbformat": 4,
 "nbformat_minor": 5
}
