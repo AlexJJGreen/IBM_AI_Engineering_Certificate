{
 "cells": [
  {
   "cell_type": "markdown",
   "id": "90ed29e0",
   "metadata": {},
   "source": [
    "# Derivatives"
   ]
  },
  {
   "cell_type": "markdown",
   "id": "33d0327e",
   "metadata": {},
   "source": [
    "In calculus the derivative of a function measures how the functions output changes with repsect to changes in the input.\n",
    "\n",
    "More specifically, the derivative provides the rate of change (slope) of a function at a particular point."
   ]
  },
  {
   "cell_type": "markdown",
   "id": "65c51d5e",
   "metadata": {},
   "source": [
    "In maths the rate of change is commonly referred to as delta or Δ "
   ]
  },
  {
   "cell_type": "markdown",
   "id": "33484d60",
   "metadata": {},
   "source": [
    "A straight line on a graph, as in a linear regression represents a constant rate of change.\n",
    "\n",
    "it shares the same equation (is the same equation) as the line of best fit:\n",
    "\n",
    "y = mx + b\n",
    "\n",
    "where m is the coefficient of x and b the intercept.\n",
    "\n",
    "m is simply calculated as the change in y over the change in x.\n",
    "\n",
    "so for example if:\n",
    "\n",
    "x = 2 and y = 5 the m = 5/2 or 2.5\n",
    "\n",
    "plugging this in to the equation\n",
    "\n",
    "y = 2.5 * 3 + b\n",
    "\n",
    "if x is 3, y should be 7.5 assuming b is 0"
   ]
  },
  {
   "cell_type": "markdown",
   "id": "dcc2b08d",
   "metadata": {},
   "source": [
    "for a non-linear equation, the same logic can be used as the tangent of the line to the point of the graph as the change in x approaches 0 is the same rate of change as the point."
   ]
  },
  {
   "cell_type": "markdown",
   "id": "dc39e7b1",
   "metadata": {},
   "source": [
    "### Linear Regression"
   ]
  },
  {
   "cell_type": "markdown",
   "id": "e046557e",
   "metadata": {},
   "source": [
    "In linear regression we want to find the values of the slope m and the y-intercept b, that minimize the MSE.\n",
    "\n",
    "We can take the derivatives of the MSE functionand set the derivatives to 0 to find the lowest point on the MSE curve which represents the lowest value of mean squared errors."
   ]
  },
  {
   "cell_type": "code",
   "execution_count": null,
   "id": "244a19ba",
   "metadata": {},
   "outputs": [],
   "source": []
  }
 ],
 "metadata": {
  "kernelspec": {
   "display_name": "Python 3 (ipykernel)",
   "language": "python",
   "name": "python3"
  },
  "language_info": {
   "codemirror_mode": {
    "name": "ipython",
    "version": 3
   },
   "file_extension": ".py",
   "mimetype": "text/x-python",
   "name": "python",
   "nbconvert_exporter": "python",
   "pygments_lexer": "ipython3",
   "version": "3.9.12"
  }
 },
 "nbformat": 4,
 "nbformat_minor": 5
}
