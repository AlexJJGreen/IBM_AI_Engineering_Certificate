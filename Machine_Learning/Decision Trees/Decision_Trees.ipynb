{
 "cells": [
  {
   "cell_type": "markdown",
   "id": "20463154",
   "metadata": {},
   "source": [
    "# Decision Trees"
   ]
  },
  {
   "cell_type": "markdown",
   "id": "00531555",
   "metadata": {},
   "source": [
    "Let's make a decision tree!\n",
    "\n",
    "The outcome here is to develop a \"classification model\" using the decision tree algorithm"
   ]
  },
  {
   "cell_type": "code",
   "execution_count": 1,
   "id": "4a0ed7ed",
   "metadata": {},
   "outputs": [],
   "source": [
    "# import libs\n",
    "import numpy as np\n",
    "import pandas as pd\n",
    "from sklearn.tree import DecisionTreeClassifier\n",
    "import sklearn.tree as tree"
   ]
  },
  {
   "cell_type": "code",
   "execution_count": null,
   "id": "f7d4389d",
   "metadata": {},
   "outputs": [],
   "source": []
  }
 ],
 "metadata": {
  "kernelspec": {
   "display_name": "Python 3 (ipykernel)",
   "language": "python",
   "name": "python3"
  },
  "language_info": {
   "codemirror_mode": {
    "name": "ipython",
    "version": 3
   },
   "file_extension": ".py",
   "mimetype": "text/x-python",
   "name": "python",
   "nbconvert_exporter": "python",
   "pygments_lexer": "ipython3",
   "version": "3.9.12"
  }
 },
 "nbformat": 4,
 "nbformat_minor": 5
}
