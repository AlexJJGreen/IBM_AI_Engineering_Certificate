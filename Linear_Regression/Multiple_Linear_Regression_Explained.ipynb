{
 "cells": [
  {
   "cell_type": "code",
   "execution_count": 2,
   "id": "83deac2a",
   "metadata": {},
   "outputs": [],
   "source": [
    "import matplotlib.pyplot as plt\n",
    "import pandas as pd\n",
    "import numpy as np\n",
    "import pylab as pl\n",
    "%matplotlib inline"
   ]
  },
  {
   "cell_type": "markdown",
   "id": "9f265485",
   "metadata": {},
   "source": [
    "Ok, first things first, lets get a dataset loaded in"
   ]
  },
  {
   "cell_type": "code",
   "execution_count": 4,
   "id": "c30f4ae2",
   "metadata": {},
   "outputs": [],
   "source": [
    "df = pd.read_csv(\"../Datasets/EPU_VIX_NASDAQ_Weekly_1990-2023.csv\")"
   ]
  },
  {
   "cell_type": "code",
   "execution_count": 5,
   "id": "dd4c7256",
   "metadata": {},
   "outputs": [
    {
     "data": {
      "text/html": [
       "<div>\n",
       "<style scoped>\n",
       "    .dataframe tbody tr th:only-of-type {\n",
       "        vertical-align: middle;\n",
       "    }\n",
       "\n",
       "    .dataframe tbody tr th {\n",
       "        vertical-align: top;\n",
       "    }\n",
       "\n",
       "    .dataframe thead th {\n",
       "        text-align: right;\n",
       "    }\n",
       "</style>\n",
       "<table border=\"1\" class=\"dataframe\">\n",
       "  <thead>\n",
       "    <tr style=\"text-align: right;\">\n",
       "      <th></th>\n",
       "      <th>DATE</th>\n",
       "      <th>US_EPU_Weekly</th>\n",
       "      <th>NASDAQ</th>\n",
       "      <th>VIX</th>\n",
       "      <th>EPU_Chg%</th>\n",
       "      <th>NAS_Chg%</th>\n",
       "      <th>VIX_Chg%</th>\n",
       "    </tr>\n",
       "  </thead>\n",
       "  <tbody>\n",
       "    <tr>\n",
       "      <th>0</th>\n",
       "      <td>08/01/1990</td>\n",
       "      <td>126.54</td>\n",
       "      <td>439.700012</td>\n",
       "      <td>24.639999</td>\n",
       "      <td>-0.567089</td>\n",
       "      <td>-0.040375</td>\n",
       "      <td>0.225261</td>\n",
       "    </tr>\n",
       "    <tr>\n",
       "      <th>1</th>\n",
       "      <td>15/01/1990</td>\n",
       "      <td>64.57</td>\n",
       "      <td>440.899994</td>\n",
       "      <td>22.500000</td>\n",
       "      <td>-0.489727</td>\n",
       "      <td>0.002729</td>\n",
       "      <td>-0.086851</td>\n",
       "    </tr>\n",
       "    <tr>\n",
       "      <th>2</th>\n",
       "      <td>22/01/1990</td>\n",
       "      <td>108.89</td>\n",
       "      <td>421.299988</td>\n",
       "      <td>26.280001</td>\n",
       "      <td>0.686387</td>\n",
       "      <td>-0.044455</td>\n",
       "      <td>0.168000</td>\n",
       "    </tr>\n",
       "    <tr>\n",
       "      <th>3</th>\n",
       "      <td>29/01/1990</td>\n",
       "      <td>196.57</td>\n",
       "      <td>422.200012</td>\n",
       "      <td>24.320000</td>\n",
       "      <td>0.805216</td>\n",
       "      <td>0.002136</td>\n",
       "      <td>-0.074581</td>\n",
       "    </tr>\n",
       "    <tr>\n",
       "      <th>4</th>\n",
       "      <td>05/02/1990</td>\n",
       "      <td>123.05</td>\n",
       "      <td>428.799988</td>\n",
       "      <td>23.690001</td>\n",
       "      <td>-0.374014</td>\n",
       "      <td>0.015632</td>\n",
       "      <td>-0.025905</td>\n",
       "    </tr>\n",
       "  </tbody>\n",
       "</table>\n",
       "</div>"
      ],
      "text/plain": [
       "         DATE  US_EPU_Weekly      NASDAQ        VIX  EPU_Chg%  NAS_Chg%  \\\n",
       "0  08/01/1990         126.54  439.700012  24.639999 -0.567089 -0.040375   \n",
       "1  15/01/1990          64.57  440.899994  22.500000 -0.489727  0.002729   \n",
       "2  22/01/1990         108.89  421.299988  26.280001  0.686387 -0.044455   \n",
       "3  29/01/1990         196.57  422.200012  24.320000  0.805216  0.002136   \n",
       "4  05/02/1990         123.05  428.799988  23.690001 -0.374014  0.015632   \n",
       "\n",
       "   VIX_Chg%  \n",
       "0  0.225261  \n",
       "1 -0.086851  \n",
       "2  0.168000  \n",
       "3 -0.074581  \n",
       "4 -0.025905  "
      ]
     },
     "execution_count": 5,
     "metadata": {},
     "output_type": "execute_result"
    }
   ],
   "source": [
    "df.head(5)"
   ]
  },
  {
   "cell_type": "code",
   "execution_count": 6,
   "id": "838e4cd5",
   "metadata": {},
   "outputs": [
    {
     "data": {
      "text/html": [
       "<div>\n",
       "<style scoped>\n",
       "    .dataframe tbody tr th:only-of-type {\n",
       "        vertical-align: middle;\n",
       "    }\n",
       "\n",
       "    .dataframe tbody tr th {\n",
       "        vertical-align: top;\n",
       "    }\n",
       "\n",
       "    .dataframe thead th {\n",
       "        text-align: right;\n",
       "    }\n",
       "</style>\n",
       "<table border=\"1\" class=\"dataframe\">\n",
       "  <thead>\n",
       "    <tr style=\"text-align: right;\">\n",
       "      <th></th>\n",
       "      <th>US_EPU_Weekly</th>\n",
       "      <th>NASDAQ</th>\n",
       "      <th>VIX</th>\n",
       "      <th>EPU_Chg%</th>\n",
       "      <th>NAS_Chg%</th>\n",
       "      <th>VIX_Chg%</th>\n",
       "    </tr>\n",
       "  </thead>\n",
       "  <tbody>\n",
       "    <tr>\n",
       "      <th>count</th>\n",
       "      <td>1754.000000</td>\n",
       "      <td>1754.000000</td>\n",
       "      <td>1754.000000</td>\n",
       "      <td>1754.000000</td>\n",
       "      <td>1754.000000</td>\n",
       "      <td>1754.000000</td>\n",
       "    </tr>\n",
       "    <tr>\n",
       "      <th>mean</th>\n",
       "      <td>116.129213</td>\n",
       "      <td>3724.022858</td>\n",
       "      <td>19.416129</td>\n",
       "      <td>0.259173</td>\n",
       "      <td>0.002400</td>\n",
       "      <td>0.008823</td>\n",
       "    </tr>\n",
       "    <tr>\n",
       "      <th>std</th>\n",
       "      <td>78.455368</td>\n",
       "      <td>3571.680392</td>\n",
       "      <td>7.917952</td>\n",
       "      <td>1.307386</td>\n",
       "      <td>0.030288</td>\n",
       "      <td>0.141182</td>\n",
       "    </tr>\n",
       "    <tr>\n",
       "      <th>min</th>\n",
       "      <td>5.800000</td>\n",
       "      <td>327.600006</td>\n",
       "      <td>9.140000</td>\n",
       "      <td>-0.966682</td>\n",
       "      <td>-0.253047</td>\n",
       "      <td>-0.426630</td>\n",
       "    </tr>\n",
       "    <tr>\n",
       "      <th>25%</th>\n",
       "      <td>65.137500</td>\n",
       "      <td>1458.755005</td>\n",
       "      <td>13.740000</td>\n",
       "      <td>-0.338672</td>\n",
       "      <td>-0.012561</td>\n",
       "      <td>-0.074074</td>\n",
       "    </tr>\n",
       "    <tr>\n",
       "      <th>50%</th>\n",
       "      <td>95.245000</td>\n",
       "      <td>2333.950073</td>\n",
       "      <td>17.505000</td>\n",
       "      <td>-0.007506</td>\n",
       "      <td>0.003546</td>\n",
       "      <td>-0.008333</td>\n",
       "    </tr>\n",
       "    <tr>\n",
       "      <th>75%</th>\n",
       "      <td>147.517500</td>\n",
       "      <td>4742.339966</td>\n",
       "      <td>22.787501</td>\n",
       "      <td>0.492125</td>\n",
       "      <td>0.019533</td>\n",
       "      <td>0.067812</td>\n",
       "    </tr>\n",
       "    <tr>\n",
       "      <th>max</th>\n",
       "      <td>642.660000</td>\n",
       "      <td>16057.440430</td>\n",
       "      <td>79.129997</td>\n",
       "      <td>27.604027</td>\n",
       "      <td>0.189781</td>\n",
       "      <td>1.348361</td>\n",
       "    </tr>\n",
       "  </tbody>\n",
       "</table>\n",
       "</div>"
      ],
      "text/plain": [
       "       US_EPU_Weekly        NASDAQ          VIX     EPU_Chg%     NAS_Chg%  \\\n",
       "count    1754.000000   1754.000000  1754.000000  1754.000000  1754.000000   \n",
       "mean      116.129213   3724.022858    19.416129     0.259173     0.002400   \n",
       "std        78.455368   3571.680392     7.917952     1.307386     0.030288   \n",
       "min         5.800000    327.600006     9.140000    -0.966682    -0.253047   \n",
       "25%        65.137500   1458.755005    13.740000    -0.338672    -0.012561   \n",
       "50%        95.245000   2333.950073    17.505000    -0.007506     0.003546   \n",
       "75%       147.517500   4742.339966    22.787501     0.492125     0.019533   \n",
       "max       642.660000  16057.440430    79.129997    27.604027     0.189781   \n",
       "\n",
       "          VIX_Chg%  \n",
       "count  1754.000000  \n",
       "mean      0.008823  \n",
       "std       0.141182  \n",
       "min      -0.426630  \n",
       "25%      -0.074074  \n",
       "50%      -0.008333  \n",
       "75%       0.067812  \n",
       "max       1.348361  "
      ]
     },
     "execution_count": 6,
     "metadata": {},
     "output_type": "execute_result"
    }
   ],
   "source": [
    "df.describe()"
   ]
  },
  {
   "cell_type": "markdown",
   "id": "13a11b29",
   "metadata": {},
   "source": [
    "So we now have a dataset with 1754 observations for 3 variables:\n",
    "\n",
    "the NASDAQ\n",
    "US Economic Policy Uncertainty\n",
    "The VIX volatility index\n",
    "\n",
    "The question then is does US Policy uncertainty and the VIX volatility index, have any correlation (positive or negative) to price changes on the NASDAQ?"
   ]
  },
  {
   "cell_type": "markdown",
   "id": "53b9a310",
   "metadata": {},
   "source": [
    "To normalize, simple weekly chg % has been calculated for each variable."
   ]
  },
  {
   "cell_type": "code",
   "execution_count": 10,
   "id": "d5de0292",
   "metadata": {},
   "outputs": [
    {
     "data": {
      "image/png": "[encoded data removed]",
      "text/plain": [
       "<Figure size 432x288 with 1 Axes>"
      ]
     },
     "metadata": {
      "needs_background": "light"
     },
     "output_type": "display_data"
    }
   ],
   "source": [
    "plt.scatter(df[\"EPU_Chg%\"], df[\"VIX_Chg%\"], color=\"black\")\n",
    "plt.xlabel(\"EPU Weekly\")\n",
    "plt.ylabel(\"VIX Weekly\")\n",
    "plt.show()"
   ]
  },
  {
   "cell_type": "code",
   "execution_count": 11,
   "id": "64371f55",
   "metadata": {},
   "outputs": [
    {
     "data": {
      "image/png": "[encoded data removed]",
      "text/plain": [
       "<Figure size 432x288 with 1 Axes>"
      ]
     },
     "metadata": {
      "needs_background": "light"
     },
     "output_type": "display_data"
    }
   ],
   "source": [
    "plt.scatter(df[\"VIX_Chg%\"], df[\"NAS_Chg%\"], color=\"black\")\n",
    "plt.xlabel(\"VIX Weekly\")\n",
    "plt.ylabel(\"NAS Weekly\")\n",
    "plt.show()"
   ]
  },
  {
   "cell_type": "code",
   "execution_count": 12,
   "id": "9493e153",
   "metadata": {},
   "outputs": [
    {
     "data": {
      "image/png": "[encoded data removed]",
      "text/plain": [
       "<Figure size 432x288 with 1 Axes>"
      ]
     },
     "metadata": {
      "needs_background": "light"
     },
     "output_type": "display_data"
    }
   ],
   "source": [
    "plt.scatter(df[\"EPU_Chg%\"], df[\"NAS_Chg%\"], color=\"black\")\n",
    "plt.xlabel(\"EPU Weekly\")\n",
    "plt.ylabel(\"NAS Weekly\")\n",
    "plt.show()"
   ]
  },
  {
   "cell_type": "markdown",
   "id": "bf6e6210",
   "metadata": {},
   "source": [
    "There appears to be some negative correlation between the VIX and NASDAQ as expected however extreme outliers in the EPU Index make it challenging to suggest any correlation."
   ]
  },
  {
   "cell_type": "markdown",
   "id": "53e1cf4c",
   "metadata": {},
   "source": [
    "To conduct a linear regression we are utlizing a Train/Test split. This means the dataset will be divided into two parts with one being used for training the model and the other to assess its accuracy."
   ]
  },
  {
   "cell_type": "code",
   "execution_count": 13,
   "id": "047050e3",
   "metadata": {},
   "outputs": [],
   "source": [
    "msk = np.random.rand(len(df)) < 0.8\n",
    "train = df[msk]\n",
    "test = df[~msk]"
   ]
  },
  {
   "cell_type": "markdown",
   "id": "8a5aca76",
   "metadata": {},
   "source": [
    "The variable msk creates a 'mask' or an array of boolean values that can be applied to the dataframe.\n",
    "\n",
    "Here random values between 0 and 1 are created and True is appplied whenever the value is less than 0.8 or 80% of the dataframe.\n",
    "\n",
    "These masks can then be applied to the dataframe creating two separate datasets; one for training and the other for testing"
   ]
  },
  {
   "cell_type": "code",
   "execution_count": 14,
   "id": "91afa63e",
   "metadata": {},
   "outputs": [
    {
     "name": "stdout",
     "output_type": "stream",
     "text": [
      "The coefficients are: [[ 0.0001989  -0.12963004]]\n"
     ]
    }
   ],
   "source": [
    "from sklearn import linear_model\n",
    "regr = linear_model.LinearRegression()\n",
    "x = np.asanyarray(train[[\"EPU_Chg%\", \"VIX_Chg%\"]])\n",
    "y = np.asanyarray(train[['NAS_Chg%']])\n",
    "regr.fit(x,y)\n",
    "print(f\"The coefficients are: {regr.coef_}\")"
   ]
  },
  {
   "cell_type": "markdown",
   "id": "f9706543",
   "metadata": {},
   "source": [
    "In the previous code, an instance of the Linear Regression object from the sklearn package is created (regr).\n",
    "\n",
    "the x values (independent variables) and y values (dependent variables) are passed as arrays to the regr object and it calculates the coefficients of both independents with the dependent utilizing the 'ordinary least squares' method.\n",
    "\n",
    "The OLS method finds the plane that minimizes the sum of the squares of the differences between the target dependent variable and the predicted linear function. Explained another way, it tries to minimize the sum of squared errors or mean squared errors between y (the actual value) and  y_hat (the predicted variable) for all samples of the dataset.\n",
    "\n",
    "This method is suitable for datasets below 10000 observations but becomes computationally slow after this point. Other methods such as:\n",
    "\n",
    "* Gradient Descent\n",
    "* Stochastic Descent\n",
    "* Newtons Method\n",
    "\n",
    "Can be utlized for larger data sets\n",
    "\n"
   ]
  },
  {
   "cell_type": "code",
   "execution_count": 15,
   "id": "b09e3e5c",
   "metadata": {},
   "outputs": [
    {
     "name": "stdout",
     "output_type": "stream",
     "text": [
      "Residual sum of squares: 0.00\n",
      "Variance score: 0.38\n"
     ]
    },
    {
     "name": "stderr",
     "output_type": "stream",
     "text": [
      "C:\\Users\\alexj\\anaconda3\\lib\\site-packages\\sklearn\\base.py:443: UserWarning: X has feature names, but LinearRegression was fitted without feature names\n",
      "  warnings.warn(\n"
     ]
    }
   ],
   "source": [
    "y_hat = regr.predict(test[[\"EPU_Chg%\", \"VIX_Chg%\"]])\n",
    "x = np.asanyarray(test[[\"EPU_Chg%\", \"VIX_Chg%\"]])\n",
    "y = np.asanyarray(test[['NAS_Chg%']])\n",
    "print(\"Residual sum of squares: %.2f\"\n",
    "      % np.mean((y_hat - y) ** 2))\n",
    "\n",
    "# Explained variance score: 1 is perfect prediction\n",
    "print('Variance score: %.2f' % regr.score(x, y))"
   ]
  },
  {
   "cell_type": "markdown",
   "id": "dffc331b",
   "metadata": {},
   "source": [
    "Finally, we use the trained model (regr) to predict the values of the dependent variable using the test data.\n",
    "\n",
    "We then calculate the residual sum of squares which is the mean average of the square of the error between the predicted value (y_hat) and the actual value (y)\n",
    "\n",
    "finally, the R^2 value is calculated with the .score() method.\n",
    "\n",
    "R^2 is the ratio of explained to unexplained variance in the dependent variable.\n",
    "\n",
    "This is calculated as 1 minus the sum of the squared residuals (the sum of the squared differences between the actual dependent variables (y) and the predicted values (y_hat), divided by the total sum of squares (the sum of the squared differences between the actual dependent variable values and the mean of the dependent variable).\n",
    "\n",
    "The higher the value the better the fit up to a maximum value of 1 "
   ]
  }
 ],
 "metadata": {
  "kernelspec": {
   "display_name": "Python 3 (ipykernel)",
   "language": "python",
   "name": "python3"
  },
  "language_info": {
   "codemirror_mode": {
    "name": "ipython",
    "version": 3
   },
   "file_extension": ".py",
   "mimetype": "text/x-python",
   "name": "python",
   "nbconvert_exporter": "python",
   "pygments_lexer": "ipython3",
   "version": "3.9.12"
  }
 },
 "nbformat": 4,
 "nbformat_minor": 5
}
