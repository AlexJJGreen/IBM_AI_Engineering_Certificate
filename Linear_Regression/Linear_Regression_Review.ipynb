{
 "cells": [
  {
   "cell_type": "markdown",
   "id": "aa66ff4f",
   "metadata": {},
   "source": [
    "# Linear Regression Review"
   ]
  },
  {
   "cell_type": "markdown",
   "id": "cc15061f",
   "metadata": {},
   "source": [
    "So the purpose of Lienar Regression is to predict a value value (y) or dependent variable, given another (x) or the independent variable.\n",
    "\n",
    "Multiple Linear Regression follows the same pattern but simply extends to multiple independent variables."
   ]
  },
  {
   "cell_type": "markdown",
   "id": "2a831c79",
   "metadata": {},
   "source": [
    "* The dependent variable must be continuous and not discreet\n",
    "* Dependent variables can be conitnuous or categorical"
   ]
  },
  {
   "cell_type": "markdown",
   "id": "93a95137",
   "metadata": {},
   "source": [
    "The predicted value of the dependent variable in a linear regression model is represented by the function:\n",
    "\n",
    "yhat = theta_0 + theta_1 * x_1\n",
    "\n",
    "in this function y_hat (hat for predicted) is equal to theta_0 (the intercept of the line with the y axis) + theta_1 (the slope coefficient of the line) multiplied by x.\n",
    "\n"
   ]
  },
  {
   "cell_type": "markdown",
   "id": "656ae440",
   "metadata": {},
   "source": [
    "Linear regression then estimate the coefficients (thetas) of the line that best fits the data or 'the line of best fit'"
   ]
  },
  {
   "cell_type": "markdown",
   "id": "a4b7f191",
   "metadata": {},
   "source": [
    "The actual value of y and y_hat are more often than not, not the same.\n",
    "\n",
    "The difference between y and y_hat is the distance from the observation to the fitting line. It is referred to as the residual error."
   ]
  },
  {
   "cell_type": "markdown",
   "id": "92568fc9",
   "metadata": {},
   "source": [
    "The mean average of the residual errors shows how well the trend line fits the dataset.\n",
    "\n",
    "It is represented by the function MSE or 'mean squared error' where:\n",
    "\n",
    "MSE= \n",
    "n\n",
    "1\n",
    "​\n",
    " ∑ \n",
    "i=1\n",
    "n\n",
    "​\n",
    " (y \n",
    "i\n",
    "​\n",
    " − \n",
    "y\n",
    "^\n",
    "​\n",
    "  \n",
    "i\n",
    "​\n",
    " ) \n",
    "2"
   ]
  },
  {
   "cell_type": "markdown",
   "id": "ea5ed28b",
   "metadata": {},
   "source": [
    "#  The objective of linear regression is to minimise the MSE equation"
   ]
  },
  {
   "cell_type": "markdown",
   "id": "419e327d",
   "metadata": {},
   "source": [
    "There are two approaches to this, a mathematical approach and a optimization approach"
   ]
  },
  {
   "cell_type": "markdown",
   "id": "7eb80721",
   "metadata": {},
   "source": [
    "### Regression Evaluation"
   ]
  },
  {
   "cell_type": "markdown",
   "id": "698f1ce0",
   "metadata": {},
   "source": [
    "There are two main ways to evaluate a linear regression model:\n",
    "\n",
    "1) Train and Test\n",
    "\n",
    "2) Train/Test Splits"
   ]
  },
  {
   "cell_type": "markdown",
   "id": "ad9638bc",
   "metadata": {},
   "source": [
    "Training and testing both trains on the whole dataset and then tests on a portion of the dataset with the labels (actual values) removed, whereas as the name implies, train test splits trains on a portion of the data and then tests on another."
   ]
  },
  {
   "cell_type": "markdown",
   "id": "abbbd5c1",
   "metadata": {},
   "source": [
    "The simplest metric for evaluation is the average of the errors or the difference between the actual values (labels) and predicted values."
   ]
  },
  {
   "cell_type": "markdown",
   "id": "6de1b38e",
   "metadata": {},
   "source": [
    "Accuracy can be sub-divided into two types:\n",
    "\n",
    "* Training Accuracy\n",
    "* Out-of-sample Accuracy\n",
    "\n",
    "As the name implies, training accuracy is the accuracy of the model on the trainign data whereas out-of-sample accuracy is the accuracy on data not in the model."
   ]
  },
  {
   "cell_type": "markdown",
   "id": "49706a48",
   "metadata": {},
   "source": [
    "The issue with not using a split is this will normally produce a high training accuracy but low oos accuracy, as the model becomes 'over-fitted', meaning it is too highly attuned to the dataset and cannot be generalized."
   ]
  },
  {
   "cell_type": "markdown",
   "id": "933a078b",
   "metadata": {},
   "source": [
    "By using a train test split, this issue can be to some extent mitigated.\n",
    "\n",
    "The issue with this is that the outcomes are highly dependent on the datasets the model is trained on.\n"
   ]
  },
  {
   "cell_type": "markdown",
   "id": "0ae578ba",
   "metadata": {},
   "source": [
    "Another approach to evaluation that resolves most of these issues is K-Fold cross validation"
   ]
  },
  {
   "cell_type": "markdown",
   "id": "741899f4",
   "metadata": {},
   "source": [
    "### K-Fold Cross-Validation"
   ]
  },
  {
   "cell_type": "markdown",
   "id": "4ea6f0c0",
   "metadata": {},
   "source": [
    "In K-Fold cross validation, the dataset is split into x folds. The data in the fold is used for testing and the rest for training. This is repeated x times and the average accuracy calculated."
   ]
  },
  {
   "cell_type": "markdown",
   "id": "72e9dc8e",
   "metadata": {},
   "source": [
    "### Evaluation Metrics"
   ]
  },
  {
   "cell_type": "markdown",
   "id": "73f72485",
   "metadata": {},
   "source": [
    "In Regression there are several evaluation metrics. Most commonly used are:\n",
    "\n",
    "* Mean Absolute Error\n",
    "* Mean Square Error\n",
    "* Root Mean Squared Error\n",
    "* R - Squared\n",
    "\n",
    "#### Mean absolute Error is the mean of the total sum of errors\n",
    "#### Mean squared error is more popular that MAE as it highlights larger outliers\n",
    "#### Root mean is the squareroot of the mse and is very popular as it can be interpreted in the same units as the response vector\n",
    "#### RAE Relative Absolute Error or residual sum of squares takes the total absolute error (y - y_hat) and divides by the total absolute error of the simple predictor (y - y_mean)\n",
    "#### Relative squared error is similar to RAE and is used to calculate R^2 except squared, not absolute.\n",
    "#### R^2 is 1 - the RSE and shows how accurate the values are to the fitted regression line"
   ]
  },
  {
   "cell_type": "markdown",
   "id": "f7e0f0d3",
   "metadata": {},
   "source": [
    "Ok, so let's do a review. First we will import the required packages, and read the dataset. In this instance we are looking at at simple daily change (%) on the $BTC and $HBAR time series' from the start of 2022 to august 2023"
   ]
  },
  {
   "cell_type": "code",
   "execution_count": 10,
   "id": "14eb51a0",
   "metadata": {},
   "outputs": [],
   "source": [
    "import matplotlib.pyplot as plt\n",
    "import pandas as pd\n",
    "import pylab as pl\n",
    "import numpy as np\n",
    "%matplotlib inline"
   ]
  },
  {
   "cell_type": "code",
   "execution_count": 11,
   "id": "4234b4c0",
   "metadata": {},
   "outputs": [],
   "source": [
    "df = pd.read_csv(\"../Datasets/BTC-USD_HBAR-USD_Jan22-Aug23.csv\")"
   ]
  },
  {
   "cell_type": "code",
   "execution_count": 12,
   "id": "6797e1a4",
   "metadata": {},
   "outputs": [
    {
     "data": {
      "text/html": [
       "<div>\n",
       "<style scoped>\n",
       "    .dataframe tbody tr th:only-of-type {\n",
       "        vertical-align: middle;\n",
       "    }\n",
       "\n",
       "    .dataframe tbody tr th {\n",
       "        vertical-align: top;\n",
       "    }\n",
       "\n",
       "    .dataframe thead th {\n",
       "        text-align: right;\n",
       "    }\n",
       "</style>\n",
       "<table border=\"1\" class=\"dataframe\">\n",
       "  <thead>\n",
       "    <tr style=\"text-align: right;\">\n",
       "      <th></th>\n",
       "      <th>Date</th>\n",
       "      <th>Close</th>\n",
       "      <th>Volume</th>\n",
       "      <th>HBAR_Close</th>\n",
       "      <th>BTC_Chg</th>\n",
       "      <th>HBAR_Chg</th>\n",
       "    </tr>\n",
       "  </thead>\n",
       "  <tbody>\n",
       "    <tr>\n",
       "      <th>0</th>\n",
       "      <td>04/01/2022</td>\n",
       "      <td>45897.57422</td>\n",
       "      <td>4.249468e+10</td>\n",
       "      <td>0.325898</td>\n",
       "      <td>-0.012066</td>\n",
       "      <td>0.063289</td>\n",
       "    </tr>\n",
       "    <tr>\n",
       "      <th>1</th>\n",
       "      <td>05/01/2022</td>\n",
       "      <td>43569.00391</td>\n",
       "      <td>3.685108e+10</td>\n",
       "      <td>0.288261</td>\n",
       "      <td>-0.050734</td>\n",
       "      <td>-0.115487</td>\n",
       "    </tr>\n",
       "    <tr>\n",
       "      <th>2</th>\n",
       "      <td>06/01/2022</td>\n",
       "      <td>43160.92969</td>\n",
       "      <td>3.020805e+10</td>\n",
       "      <td>0.294404</td>\n",
       "      <td>-0.009366</td>\n",
       "      <td>0.021311</td>\n",
       "    </tr>\n",
       "    <tr>\n",
       "      <th>3</th>\n",
       "      <td>07/01/2022</td>\n",
       "      <td>41557.90234</td>\n",
       "      <td>8.419661e+10</td>\n",
       "      <td>0.272412</td>\n",
       "      <td>-0.037141</td>\n",
       "      <td>-0.074700</td>\n",
       "    </tr>\n",
       "    <tr>\n",
       "      <th>4</th>\n",
       "      <td>08/01/2022</td>\n",
       "      <td>41733.94141</td>\n",
       "      <td>2.806636e+10</td>\n",
       "      <td>0.265500</td>\n",
       "      <td>0.004236</td>\n",
       "      <td>-0.025373</td>\n",
       "    </tr>\n",
       "  </tbody>\n",
       "</table>\n",
       "</div>"
      ],
      "text/plain": [
       "         Date        Close        Volume  HBAR_Close   BTC_Chg  HBAR_Chg\n",
       "0  04/01/2022  45897.57422  4.249468e+10    0.325898 -0.012066  0.063289\n",
       "1  05/01/2022  43569.00391  3.685108e+10    0.288261 -0.050734 -0.115487\n",
       "2  06/01/2022  43160.92969  3.020805e+10    0.294404 -0.009366  0.021311\n",
       "3  07/01/2022  41557.90234  8.419661e+10    0.272412 -0.037141 -0.074700\n",
       "4  08/01/2022  41733.94141  2.806636e+10    0.265500  0.004236 -0.025373"
      ]
     },
     "execution_count": 12,
     "metadata": {},
     "output_type": "execute_result"
    }
   ],
   "source": [
    "df.head(5)"
   ]
  },
  {
   "cell_type": "code",
   "execution_count": 16,
   "id": "013b25d4",
   "metadata": {},
   "outputs": [
    {
     "data": {
      "text/plain": [
       "Text(0, 0.5, 'HBAR')"
      ]
     },
     "execution_count": 16,
     "metadata": {},
     "output_type": "execute_result"
    },
    {
     "data": {
      "image/png": "[encoded data removed]",
      "text/plain": [
       "<Figure size 432x288 with 1 Axes>"
      ]
     },
     "metadata": {
      "needs_background": "light"
     },
     "output_type": "display_data"
    }
   ],
   "source": [
    "plt.scatter(df[\"BTC_Chg\"],df[\"HBAR_Chg\"], color=\"black\", s=2)\n",
    "plt.xlabel(\"BTC\")\n",
    "plt.ylabel(\"HBAR\")"
   ]
  },
  {
   "cell_type": "markdown",
   "id": "32c63aef",
   "metadata": {},
   "source": [
    "We are looking to see changes in BTC price share correlation with changes in HBAR price. From the graph, we have BTC on the x axis and HBAR as our dependent value on the y axis. There appears to be a correlation."
   ]
  },
  {
   "cell_type": "markdown",
   "id": "10e623fe",
   "metadata": {},
   "source": [
    "so lets divide the data into a trainign a test set"
   ]
  },
  {
   "cell_type": "code",
   "execution_count": 17,
   "id": "690fc08d",
   "metadata": {},
   "outputs": [],
   "source": [
    "msk = np.random.rand(len(df)) < 0.8\n",
    "train_set = df[msk]\n",
    "test_set = df[~msk]"
   ]
  },
  {
   "cell_type": "code",
   "execution_count": 19,
   "id": "55e71061",
   "metadata": {},
   "outputs": [
    {
     "name": "stdout",
     "output_type": "stream",
     "text": [
      "Coefficients: [[1.09838262]]\n",
      "Intercept: [-0.00108427]\n"
     ]
    }
   ],
   "source": [
    "from sklearn import linear_model\n",
    "regr = linear_model.LinearRegression()\n",
    "train_x = np.asanyarray(train_set[[\"BTC_Chg\"]])\n",
    "train_y = np.asanyarray(train_set[[\"HBAR_Chg\"]])\n",
    "regr.fit(train_x, train_y)\n",
    "\n",
    "print(f\"Coefficients: {regr.coef_}\")\n",
    "print(f\"Intercept: {regr.intercept_}\")"
   ]
  },
  {
   "cell_type": "code",
   "execution_count": 79,
   "id": "6851bba1",
   "metadata": {},
   "outputs": [
    {
     "data": {
      "text/plain": [
       "[<matplotlib.lines.Line2D at 0x1f129d44d00>]"
      ]
     },
     "execution_count": 79,
     "metadata": {},
     "output_type": "execute_result"
    },
    {
     "data": {
      "image/png": "[encoded data removed]",
      "text/plain": [
       "<Figure size 432x288 with 1 Axes>"
      ]
     },
     "metadata": {
      "needs_background": "light"
     },
     "output_type": "display_data"
    }
   ],
   "source": [
    "plt.scatter(train_set[\"BTC_Chg\"], train_set[\"HBAR_Chg\"], color='#aaa', s=1.5)\n",
    "plt.scatter(test_set[\"BTC_Chg\"], test_set[\"HBAR_Chg\"], color=\"black\", s=3)\n",
    "plt.plot(train_x, regr.coef_[0][0]*train_x + regr.intercept_[0], 'blue')"
   ]
  },
  {
   "cell_type": "code",
   "execution_count": 22,
   "id": "bbf799e5",
   "metadata": {},
   "outputs": [
    {
     "name": "stdout",
     "output_type": "stream",
     "text": [
      "Mean absolute error: 0.02\n",
      "Residual sum of squares (MSE): 0.00\n",
      "R2-score: 0.43\n"
     ]
    }
   ],
   "source": [
    "from sklearn.metrics import r2_score\n",
    "\n",
    "test_x = np.asanyarray(test_set[['BTC_Chg']])\n",
    "test_y = np.asanyarray(test_set[['HBAR_Chg']])\n",
    "test_y_ = regr.predict(test_x)\n",
    "\n",
    "print(\"Mean absolute error: %.2f\" % np.mean(np.absolute(test_y_ - test_y)))\n",
    "print(\"Residual sum of squares (MSE): %.2f\" % np.mean((test_y_ - test_y) ** 2))\n",
    "print(\"R2-score: %.2f\" % r2_score(test_y , test_y_) )"
   ]
  },
  {
   "cell_type": "code",
   "execution_count": 23,
   "id": "1cd3afe5",
   "metadata": {},
   "outputs": [],
   "source": [
    "from scipy.stats import pearsonr"
   ]
  },
  {
   "cell_type": "code",
   "execution_count": 24,
   "id": "070cb791",
   "metadata": {},
   "outputs": [],
   "source": [
    "corr_coef, p_val = pearsonr(df[\"BTC_Chg\"], df[\"HBAR_Chg\"])"
   ]
  },
  {
   "cell_type": "code",
   "execution_count": 59,
   "id": "c0a4b6bb",
   "metadata": {},
   "outputs": [
    {
     "name": "stdout",
     "output_type": "stream",
     "text": [
      "correlation between BTC and HBAR is: 0.7251016307371697\n",
      "significance of this result is 1.1786707042697515e-97\n"
     ]
    }
   ],
   "source": [
    "print(f\"correlation between BTC and HBAR is: {corr_coef}\")\n",
    "print(f\"significance of this result is {p_val}\")"
   ]
  },
  {
   "cell_type": "markdown",
   "id": "e99f005b",
   "metadata": {},
   "source": [
    "### Using K-Fold Cross-Validation"
   ]
  },
  {
   "cell_type": "markdown",
   "id": "f2154c53",
   "metadata": {},
   "source": [
    "So, the IBM course doesn't go into this but it might be an idea to look at what they recommend as a superior evaluation technique; K-Folds Cross-Validation."
   ]
  },
  {
   "cell_type": "markdown",
   "id": "b02b6d8b",
   "metadata": {},
   "source": [
    "First import the modules from sklearn"
   ]
  },
  {
   "cell_type": "code",
   "execution_count": 51,
   "id": "0ca1977c",
   "metadata": {},
   "outputs": [],
   "source": [
    "from sklearn.model_selection import KFold\n",
    "from sklearn.linear_model import LinearRegression\n",
    "from sklearn.metrics import mean_squared_error, r2_score"
   ]
  },
  {
   "cell_type": "code",
   "execution_count": 52,
   "id": "bba508ad",
   "metadata": {},
   "outputs": [],
   "source": [
    "x_data = np.asanyarray(df[['BTC_Chg']])\n",
    "y_data = np.asanyarray(df[['HBAR_Chg']])"
   ]
  },
  {
   "cell_type": "code",
   "execution_count": 53,
   "id": "e18c8859",
   "metadata": {},
   "outputs": [],
   "source": [
    "k = 7\n",
    "kf = KFold(n_splits=k, shuffle=True, random_state=69)"
   ]
  },
  {
   "cell_type": "code",
   "execution_count": 54,
   "id": "81bdc8f6",
   "metadata": {},
   "outputs": [],
   "source": [
    "model = LinearRegression()\n",
    "mse_scores = []\n",
    "r2_scores = []"
   ]
  },
  {
   "cell_type": "code",
   "execution_count": 55,
   "id": "87a7efd1",
   "metadata": {},
   "outputs": [],
   "source": [
    "for training_index, val_index in kf.split(x_data):\n",
    "    x_train, x_val = x_data[training_index], x_data[val_index]\n",
    "    y_train, y_val = y_data[training_index], y_data[val_index]\n",
    "    \n",
    "    model.fit(x_train, y_train)\n",
    "    \n",
    "    y_pred = model.predict(x_val)\n",
    "    \n",
    "    mse = mean_squared_error(y_val, y_pred)\n",
    "    mse_scores.append(mse)\n",
    "    \n",
    "    r2 = r2_score(y_val, y_pred)\n",
    "    r2_scores.append(r2)"
   ]
  },
  {
   "cell_type": "code",
   "execution_count": 56,
   "id": "d259746e",
   "metadata": {},
   "outputs": [
    {
     "name": "stdout",
     "output_type": "stream",
     "text": [
      "Av MSE: 0.0009500311934898282\n",
      "Av R-Squared: 0.5228258766177892\n"
     ]
    }
   ],
   "source": [
    "av_mse = np.mean(mse_scores)\n",
    "print(f\"Av MSE: {av_mse}\")\n",
    "\n",
    "av_r2 = np.mean(r2_scores)\n",
    "print(f\"Av R-Squared: {av_r2}\")"
   ]
  },
  {
   "cell_type": "code",
   "execution_count": 57,
   "id": "a74934bd",
   "metadata": {},
   "outputs": [
    {
     "name": "stdout",
     "output_type": "stream",
     "text": [
      "0.522353010361809\n",
      "0.5600749526460111\n",
      "0.385543975432296\n",
      "0.5394111593515314\n",
      "0.5304385109559888\n",
      "0.6005413158854482\n",
      "0.5214182116914401\n"
     ]
    }
   ],
   "source": [
    "for score in r2_scores:\n",
    "    print(score)"
   ]
  },
  {
   "cell_type": "markdown",
   "id": "40518c08",
   "metadata": {},
   "source": [
    "### Sigmoid Regression"
   ]
  },
  {
   "cell_type": "markdown",
   "id": "08198532",
   "metadata": {},
   "source": [
    "Just because I feel like the data fits it, lets try a sigmoid function"
   ]
  },
  {
   "cell_type": "code",
   "execution_count": 100,
   "id": "3135977b",
   "metadata": {},
   "outputs": [],
   "source": [
    "from scipy.optimize import curve_fit"
   ]
  },
  {
   "cell_type": "code",
   "execution_count": 101,
   "id": "fd675535",
   "metadata": {},
   "outputs": [],
   "source": [
    "def sigmoid(x,L,k,x0):\n",
    "    return L / (1 + np.exp(-k*(x -x0)))"
   ]
  },
  {
   "cell_type": "code",
   "execution_count": 102,
   "id": "8e10ec0e",
   "metadata": {},
   "outputs": [
    {
     "name": "stdout",
     "output_type": "stream",
     "text": [
      "(592,)\n"
     ]
    }
   ],
   "source": [
    "x_data = np.asanyarray(df['BTC_Chg'])\n",
    "y_data = np.asanyarray(df['HBAR_Chg'])\n",
    "\n",
    "print(x_data.shape)"
   ]
  },
  {
   "cell_type": "code",
   "execution_count": 173,
   "id": "95512f7a",
   "metadata": {},
   "outputs": [],
   "source": [
    "popt, _ = curve_fit(sigmoid, x_data, y_data, p0=[3,0.5,5])"
   ]
  },
  {
   "cell_type": "code",
   "execution_count": 174,
   "id": "3cbf2373",
   "metadata": {},
   "outputs": [
    {
     "name": "stdout",
     "output_type": "stream",
     "text": [
      "R-squared: 0.19649368676288403\n"
     ]
    }
   ],
   "source": [
    "L_opt, k_opt, x0_opt = popt\n",
    "\n",
    "# Calculate the predicted values using the fitted sigmoid function\n",
    "y_pred = sigmoid(x_data, L_opt, k_opt, x0_opt)\n",
    "\n",
    "# Calculate the R-squared value\n",
    "r2 = r2_score(y_data, y_pred)\n",
    "\n",
    "print(\"R-squared:\", r2)"
   ]
  },
  {
   "cell_type": "code",
   "execution_count": 175,
   "id": "2861a0a7",
   "metadata": {},
   "outputs": [
    {
     "data": {
      "image/png": "[encoded data removed]",
      "text/plain": [
       "<Figure size 432x288 with 1 Axes>"
      ]
     },
     "metadata": {
      "needs_background": "light"
     },
     "output_type": "display_data"
    }
   ],
   "source": [
    "x_smooth = np.linspace(min(x_data), max(x_data), 100)\n",
    "y_smooth = sigmoid(x_smooth, L_opt, k_opt, x0_opt)\n",
    "\n",
    "# Plot the original data and the fitted curve\n",
    "plt.scatter(x_data, y_data, label='Data', color=\"black\", s=2.5)\n",
    "plt.plot(x_smooth, y_smooth, label='Fitted Curve', color='red')\n",
    "plt.xlabel('X')\n",
    "plt.ylabel('Y')\n",
    "plt.title('Sigmoid Regression')\n",
    "plt.legend()\n",
    "plt.show()"
   ]
  },
  {
   "cell_type": "code",
   "execution_count": null,
   "id": "1727f1c4",
   "metadata": {},
   "outputs": [],
   "source": []
  },
  {
   "cell_type": "code",
   "execution_count": null,
   "id": "9552b2e0",
   "metadata": {},
   "outputs": [],
   "source": []
  }
 ],
 "metadata": {
  "kernelspec": {
   "display_name": "Python 3 (ipykernel)",
   "language": "python",
   "name": "python3"
  },
  "language_info": {
   "codemirror_mode": {
    "name": "ipython",
    "version": 3
   },
   "file_extension": ".py",
   "mimetype": "text/x-python",
   "name": "python",
   "nbconvert_exporter": "python",
   "pygments_lexer": "ipython3",
   "version": "3.9.12"
  }
 },
 "nbformat": 4,
 "nbformat_minor": 5
}
